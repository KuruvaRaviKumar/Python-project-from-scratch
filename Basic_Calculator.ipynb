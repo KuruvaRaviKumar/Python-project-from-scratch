{
  "nbformat": 4,
  "nbformat_minor": 0,
  "metadata": {
    "colab": {
      "provenance": [],
      "authorship_tag": "ABX9TyPxoxw6zJ5LbeFHdSB8mkP0",
      "include_colab_link": true
    },
    "kernelspec": {
      "name": "python3",
      "display_name": "Python 3"
    },
    "language_info": {
      "name": "python"
    }
  },
  "cells": [
    {
      "cell_type": "markdown",
      "metadata": {
        "id": "view-in-github",
        "colab_type": "text"
      },
      "source": [
        "<a href=\"https://colab.research.google.com/github/KuruvaRaviKumar/Python-project-from-scratch/blob/main/Basic_Calculator.ipynb\" target=\"_parent\"><img src=\"https://colab.research.google.com/assets/colab-badge.svg\" alt=\"Open In Colab\"/></a>"
      ]
    },
    {
      "cell_type": "code",
      "execution_count": null,
      "metadata": {
        "id": "BR28TznQkah_"
      },
      "outputs": [],
      "source": [
        "def calculator():\n",
        "    print(\"\\nWelcome to the Basic Calculator!\")\n",
        "    print(\"You can perform addition (+), subtraction (-), multiplication (*), or division (/).\")\n",
        "    print(\"Type 'exit' to quit the calculator.\\n\")\n",
        "\n",
        "    while True:\n",
        "        try:\n",
        "            # Get user input for the first number\n",
        "            num1 = input(\"Enter the first number (or type 'exit' to quit): \")\n",
        "            if num1.lower() == 'exit':\n",
        "                print(\"Thank you for using the calculator. Goodbye!\")\n",
        "                break\n",
        "            num1 = float(num1)\n",
        "\n",
        "            # Get user input for the operation\n",
        "            operation = input(\"Enter the operation (+, -, *, /): \")\n",
        "            if operation not in ['+', '-', '*', '/']:\n",
        "                print(\"Invalid operation. Please enter one of +, -, *, or /.\")\n",
        "                continue\n",
        "\n",
        "            # Get user input for the second number\n",
        "            num2 = input(\"Enter the second number: \")\n",
        "            num2 = float(num2)\n",
        "\n",
        "            # Perform the calculation\n",
        "            if operation == '+':\n",
        "                result = num1 + num2\n",
        "            elif operation == '-':\n",
        "                result = num1 - num2\n",
        "            elif operation == '*':\n",
        "                result = num1 * num2\n",
        "            elif operation == '/':\n",
        "                if num2 == 0:\n",
        "                    print(\"Error: Division by zero is not allowed.\")\n",
        "                    continue\n",
        "                result = num1 / num2\n",
        "\n",
        "            # Display the result\n",
        "            print(f\"The result of {num1} {operation} {num2} is: {result}\\n\")\n",
        "        except ValueError:\n",
        "            print(\"Invalid input. Please enter numeric values.\\n\")\n",
        "\n",
        "if __name__ == \"__main__\":\n",
        "    calculator()\n"
      ]
    },
    {
      "cell_type": "markdown",
      "source": [
        "### How It Works\n",
        "1. The program welcomes the user and explains the available operations.\n",
        "2. The user inputs two numbers and selects an operation.\n",
        "3. The program performs the calculation and displays the result.\n",
        "4. The loop continues until the user types \"exit\" to quit.\n",
        "\n",
        "\n",
        "### Example\n",
        "\n",
        "Welcome to the Basic Calculator!\n",
        "You can perform addition (+), subtraction (-), multiplication (*), or division (/).\n",
        "Type 'exit' to quit the calculator.\n",
        "\n",
        "Enter the first number (or type 'exit' to quit): 12\n",
        "Enter the operation (+, -, *, /): +\n",
        "Enter the second number: 8\n",
        "The result of 12.0 + 8.0 is: 20.0\n",
        "\n",
        "Enter the first number (or type 'exit' to quit): 10\n",
        "Enter the operation (+, -, *, /): /\n",
        "Enter the second number: 0\n",
        "Error: Division by zero is not allowed.\n",
        "\n",
        "Enter the first number (or type 'exit' to quit): exit\n",
        "Thank you for using the calculator. Goodbye!\n"
      ],
      "metadata": {
        "id": "uRdmqdt0kkoH"
      }
    }
  ]
}