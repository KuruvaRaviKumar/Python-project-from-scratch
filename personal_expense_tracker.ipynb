{
  "nbformat": 4,
  "nbformat_minor": 0,
  "metadata": {
    "colab": {
      "provenance": [],
      "authorship_tag": "ABX9TyO1sA51816spDavm8buNNAv",
      "include_colab_link": true
    },
    "kernelspec": {
      "name": "python3",
      "display_name": "Python 3"
    },
    "language_info": {
      "name": "python"
    }
  },
  "cells": [
    {
      "cell_type": "markdown",
      "metadata": {
        "id": "view-in-github",
        "colab_type": "text"
      },
      "source": [
        "<a href=\"https://colab.research.google.com/github/KuruvaRaviKumar/Python-project-from-scratch/blob/main/personal_expense_tracker.ipynb\" target=\"_parent\"><img src=\"https://colab.research.google.com/assets/colab-badge.svg\" alt=\"Open In Colab\"/></a>"
      ]
    },
    {
      "cell_type": "code",
      "execution_count": null,
      "metadata": {
        "id": "SfEexsX76-1w"
      },
      "outputs": [],
      "source": []
    },
    {
      "cell_type": "code",
      "source": [
        "class Book:\n",
        "    \"\"\"Class to represent a book.\"\"\"\n",
        "    def __init__(self, title, author, copies):\n",
        "        self.title = title\n",
        "        self.author = author\n",
        "        self.copies = copies\n",
        "\n",
        "    def __str__(self):\n",
        "        return f\"'{self.title}' by {self.author} ({self.copies} copies available)\"\n",
        "\n",
        "\n",
        "class Library:\n",
        "    \"\"\"Class to represent the library.\"\"\"\n",
        "    def __init__(self):\n",
        "        self.books = []\n",
        "        self.borrowed_books = {}\n",
        "\n",
        "    def add_book(self, title, author, copies):\n",
        "        book = Book(title, author, copies)\n",
        "        self.books.append(book)\n",
        "        print(f\"Book '{title}' added to the library.\")\n",
        "\n",
        "    def display_books(self):\n",
        "        print(\"\\nAvailable Books:\")\n",
        "        for book in self.books:\n",
        "            print(book)\n",
        "        print(\"-\" * 30)\n",
        "\n",
        "    def borrow_book(self, user, title):\n",
        "        for book in self.books:\n",
        "            if book.title == title and book.copies > 0:\n",
        "                book.copies -= 1\n",
        "                if user in self.borrowed_books:\n",
        "                    self.borrowed_books[user].append(title)\n",
        "                else:\n",
        "                    self.borrowed_books[user] = [title]\n",
        "                print(f\"Book '{title}' borrowed by {user}.\")\n",
        "                return\n",
        "        print(f\"Sorry, the book '{title}' is not available.\")\n",
        "\n",
        "    def return_book(self, user, title):\n",
        "        if user in self.borrowed_books and title in self.borrowed_books[user]:\n",
        "            self.borrowed_books[user].remove(title)\n",
        "            for book in self.books:\n",
        "                if book.title == title:\n",
        "                    book.copies += 1\n",
        "                    print(f\"Book '{title}' returned by {user}.\")\n",
        "                    return\n",
        "        print(f\"Error: '{title}' was not borrowed by {user}.\")\n",
        "\n",
        "    def view_borrowed_books(self):\n",
        "        print(\"\\nBorrowed Books:\")\n",
        "        for user, books in self.borrowed_books.items():\n",
        "            print(f\"{user} has borrowed: {', '.join(books)}\")\n",
        "        print(\"-\" * 30)\n",
        "\n",
        "\n",
        "# Main program loop\n",
        "def main():\n",
        "    library = Library()\n",
        "\n",
        "    while True:\n",
        "        print(\"\\nLibrary Management System\")\n",
        "        print(\"1. Add Book\")\n",
        "        print(\"2. Display Books\")\n",
        "        print(\"3. Borrow Book\")\n",
        "        print(\"4. Return Book\")\n",
        "        print(\"5. View Borrowed Books\")\n",
        "        print(\"6. Exit\")\n",
        "        choice = input(\"Enter your choice: \")\n",
        "\n",
        "        if choice == '1':\n",
        "            title = input(\"Enter book title: \")\n",
        "            author = input(\"Enter book author: \")\n",
        "            copies = int(input(\"Enter number of copies: \"))\n",
        "            library.add_book(title, author, copies)\n",
        "        elif choice == '2':\n",
        "            library.display_books()\n",
        "        elif choice == '3':\n",
        "            user = input(\"Enter your name: \")\n",
        "            title = input(\"Enter book title to borrow: \")\n",
        "            library.borrow_book(user, title)\n",
        "        elif choice == '4':\n",
        "            user = input(\"Enter your name: \")\n",
        "            title = input(\"Enter book title to return: \")\n",
        "            library.return_book(user, title)\n",
        "        elif choice == '5':\n",
        "            library.view_borrowed_books()\n",
        "        elif choice == '6':\n",
        "            print(\"Goodbye!\")\n",
        "            break\n",
        "        else:\n",
        "            print(\"Invalid choice. Please try again.\")\n",
        "\n",
        "# Run the program\n",
        "if __name__ == \"__main__\":\n",
        "    main()\n"
      ],
      "metadata": {
        "id": "0Flhnlzx7DsP"
      },
      "execution_count": null,
      "outputs": []
    },
    {
      "cell_type": "code",
      "source": [
        "from google.colab import drive\n",
        "drive.mount('/content/drive')"
      ],
      "metadata": {
        "id": "pzRZs3a37Mpa"
      },
      "execution_count": null,
      "outputs": []
    }
  ]
}