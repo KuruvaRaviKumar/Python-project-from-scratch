{
  "nbformat": 4,
  "nbformat_minor": 0,
  "metadata": {
    "colab": {
      "provenance": [],
      "authorship_tag": "ABX9TyNM6qWnKjQoEXx/JO7eH/Ht",
      "include_colab_link": true
    },
    "kernelspec": {
      "name": "python3",
      "display_name": "Python 3"
    },
    "language_info": {
      "name": "python"
    }
  },
  "cells": [
    {
      "cell_type": "markdown",
      "metadata": {
        "id": "view-in-github",
        "colab_type": "text"
      },
      "source": [
        "<a href=\"https://colab.research.google.com/github/KuruvaRaviKumar/Python-project-from-scratch/blob/main/Palindrome.ipynb\" target=\"_parent\"><img src=\"https://colab.research.google.com/assets/colab-badge.svg\" alt=\"Open In Colab\"/></a>"
      ]
    },
    {
      "cell_type": "code",
      "execution_count": null,
      "metadata": {
        "id": "VBNU1lYZlT9-"
      },
      "outputs": [],
      "source": [
        "def is_palindrome(text):\n",
        "    # Remove spaces and convert to lowercase\n",
        "    cleaned_text = ''.join(char.lower() for char in text if char.isalnum())\n",
        "\n",
        "    # Check if the cleaned text is the same as its reverse\n",
        "    return cleaned_text == cleaned_text[::-1]\n",
        "\n",
        "def main():\n",
        "    print(\"\\nWelcome to the Palindrome Checker!\")\n",
        "    print(\"Type 'exit' to quit.\\n\")\n",
        "\n",
        "    while True:\n",
        "        user_input = input(\"Enter a word or phrase to check (or type 'exit' to quit): \")\n",
        "        if user_input.lower() == 'exit':\n",
        "            print(\"Thank you for using the Palindrome Checker. Goodbye!\")\n",
        "            break\n",
        "\n",
        "        # Check if the input is a palindrome\n",
        "        if is_palindrome(user_input):\n",
        "            print(f\"Yes, '{user_input}' is a palindrome!\\n\")\n",
        "        else:\n",
        "            print(f\"No, '{user_input}' is not a palindrome.\\n\")\n",
        "\n",
        "if __name__ == \"__main__\":\n",
        "    main()\n"
      ]
    },
    {
      "cell_type": "markdown",
      "source": [
        "\n",
        "\n",
        "### How It Works\n",
        "1. The user enters a word or phrase.\n",
        "2. The program cleans the input by removing spaces and converting it to lowercase.\n",
        "3. It compares the cleaned text with its reversed version.\n",
        "4. The result (palindrome or not) is displayed.\n"
      ],
      "metadata": {
        "id": "PqqG4F-9lfAp"
      }
    }
  ]
}