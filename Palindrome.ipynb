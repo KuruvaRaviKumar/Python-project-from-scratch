{
  "nbformat": 4,
  "nbformat_minor": 0,
  "metadata": {
    "colab": {
      "provenance": [],
      "authorship_tag": "ABX9TyNOMSZ6MrntNMRsy0qcdQ6w",
      "include_colab_link": true
    },
    "kernelspec": {
      "name": "python3",
      "display_name": "Python 3"
    },
    "language_info": {
      "name": "python"
    }
  },
  "cells": [
    {
      "cell_type": "markdown",
      "metadata": {
        "id": "view-in-github",
        "colab_type": "text"
      },
      "source": [
        "<a href=\"https://colab.research.google.com/github/KuruvaRaviKumar/Python-project-from-scratch/blob/main/Palindrome.ipynb\" target=\"_parent\"><img src=\"https://colab.research.google.com/assets/colab-badge.svg\" alt=\"Open In Colab\"/></a>"
      ]
    },
    {
      "cell_type": "code",
      "execution_count": null,
      "metadata": {
        "id": "fncv3kIsbjTc"
      },
      "outputs": [],
      "source": [
        "def is_palindrome(text):\n",
        "    # Remove spaces and convert to lowercase\n",
        "    cleaned_text = ''.join(char.lower() for char in text if char.isalnum())\n",
        "\n",
        "    # Check if the cleaned text is the same as its reverse\n",
        "    return cleaned_text == cleaned_text[::-1]\n",
        "\n",
        "def main():\n",
        "    print(\"\\nWelcome to the Palindrome Checker!\")\n",
        "    print(\"Type 'exit' to quit.\\n\")\n",
        "\n",
        "    while True:\n",
        "        user_input = input(\"Enter a word or phrase to check (or type 'exit' to quit): \")\n",
        "        if user_input.lower() == 'exit':\n",
        "            print(\"Thank you for using the Palindrome Checker. Goodbye!\")\n",
        "            break\n",
        "\n",
        "        # Check if the input is a palindrome\n",
        "        if is_palindrome(user_input):\n",
        "            print(f\"Yes, '{user_input}' is a palindrome!\\n\")\n",
        "        else:\n",
        "            print(f\"No, '{user_input}' is not a palindrome.\\n\")\n",
        "\n",
        "if __name__ == \"__main__\":\n",
        "    main()\n"
      ]
    },
    {
      "cell_type": "markdown",
      "source": [
        "\n",
        "### Example Interaction\n",
        "\n",
        "Welcome to the Palindrome Checker!\n",
        "Type 'exit' to quit.\n",
        "\n",
        "Enter a word or phrase to check (or type 'exit' to quit): Racecar\n",
        "Yes, 'Racecar' is a palindrome!\n",
        "\n",
        "Enter a word or phrase to check (or type 'exit' to quit): Hello\n",
        "No, 'Hello' is not a palindrome.\n",
        "\n",
        "Enter a word or phrase to check (or type 'exit' to quit): A man, a plan, a canal, Panama\n",
        "Yes, 'A man, a plan, a canal, Panama' is a palindrome!\n",
        "\n",
        "Enter a word or phrase to check (or type 'exit' to quit): exit\n",
        "Thank you for using the Palindrome Checker. Goodbye!\n",
        "\n",
        "Let me know if you'd like help adding any of these!\n",
        "\n"
      ],
      "metadata": {
        "id": "yArOAu-7byF_"
      }
    }
  ]
}