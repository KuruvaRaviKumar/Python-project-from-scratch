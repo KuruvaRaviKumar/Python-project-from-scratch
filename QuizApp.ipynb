{
  "cells": [
    {
      "cell_type": "markdown",
      "metadata": {
        "id": "view-in-github",
        "colab_type": "text"
      },
      "source": [
        "<a href=\"https://colab.research.google.com/github/KuruvaRaviKumar/Python-project-from-scratch/blob/main/QuizApp.ipynb\" target=\"_parent\"><img src=\"https://colab.research.google.com/assets/colab-badge.svg\" alt=\"Open In Colab\"/></a>"
      ]
    },
    {
      "cell_type": "code",
      "source": [],
      "metadata": {
        "id": "wki7mdAAYqC6"
      },
      "execution_count": null,
      "outputs": []
    },
    {
      "cell_type": "markdown",
      "source": [
        "\n",
        "1. **Question Storage**:\n",
        "   - Questions are stored in a list of dictionaries. Each dictionary contains:\n",
        "     - `question`: The question text.\n",
        "     - `options`: A list of possible answers.\n",
        "     - `answer`: The correct option number.\n",
        "\n",
        "2. **User Interaction**:\n",
        "   - The program displays each question with its options and prompts the user to input their answer.\n",
        "   - Input is validated to ensure the user selects a valid option.\n",
        "\n",
        "3. **Feedback System**:\n",
        "   - The program provides immediate feedback on whether the answer was correct or incorrect.\n",
        "   - If incorrect, the correct answer is displayed.\n",
        "\n",
        "4. **Scoring System**:\n",
        "   - The program tracks the user's score throughout the quiz.\n",
        "   - A final score is displayed at the end.\n",
        "\n",
        "\n",
        "### How It Works\n",
        "1. The program starts by welcoming the user.\n",
        "2. Each question is displayed along with its options.\n",
        "3. The user selects their answer by entering the corresponding number.\n",
        "4. The program checks the answer and provides feedback.\n",
        "5. After all questions, the program displays the final score.\n",
        "\n",
        "Let me know if you'd like to expand this further, such as:\n",
        "- Adding more questions from a file.\n",
        "- Implementing a timer for each question.\n",
        "- Creating a GUI version of the app!"
      ],
      "metadata": {
        "id": "m_6YnKFFYwm7"
      }
    }
  ],
  "metadata": {
    "colab": {
      "name": "Welcome To Colab",
      "provenance": [],
      "include_colab_link": true
    },
    "kernelspec": {
      "display_name": "Python 3",
      "name": "python3"
    }
  },
  "nbformat": 4,
  "nbformat_minor": 0
}