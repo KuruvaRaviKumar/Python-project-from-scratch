{
  "nbformat": 4,
  "nbformat_minor": 0,
  "metadata": {
    "colab": {
      "provenance": [],
      "authorship_tag": "ABX9TyPwpaSX5ov04/Ig7VnwovdL",
      "include_colab_link": true
    },
    "kernelspec": {
      "name": "python3",
      "display_name": "Python 3"
    },
    "language_info": {
      "name": "python"
    }
  },
  "cells": [
    {
      "cell_type": "markdown",
      "metadata": {
        "id": "view-in-github",
        "colab_type": "text"
      },
      "source": [
        "<a href=\"https://colab.research.google.com/github/KuruvaRaviKumar/Python-project-from-scratch/blob/main/Quiz_App.ipynb\" target=\"_parent\"><img src=\"https://colab.research.google.com/assets/colab-badge.svg\" alt=\"Open In Colab\"/></a>"
      ]
    },
    {
      "cell_type": "code",
      "execution_count": null,
      "metadata": {
        "id": "kMiVtFS-i3SX"
      },
      "outputs": [],
      "source": [
        "# Quiz questions and answers\n",
        "quiz_data = [\n",
        "    {\n",
        "        \"question\": \"What is the capital of France?\",\n",
        "        \"options\": [\"1. Berlin\", \"2. Madrid\", \"3. Paris\", \"4. Rome\"],\n",
        "        \"answer\": 3\n",
        "    },\n",
        "    {\n",
        "        \"question\": \"Which planet is known as the Red Planet?\",\n",
        "        \"options\": [\"1. Earth\", \"2. Mars\", \"3. Jupiter\", \"4. Saturn\"],\n",
        "        \"answer\": 2\n",
        "    },\n",
        "    {\n",
        "        \"question\": \"What is the largest mammal in the world?\",\n",
        "        \"options\": [\"1. Elephant\", \"2. Blue Whale\", \"3. Giraffe\", \"4. Great White Shark\"],\n",
        "        \"answer\": 2\n",
        "    }\n",
        "]\n",
        "\n",
        "def run_quiz(quiz_data):\n",
        "    score = 0\n",
        "\n",
        "    print(\"\\nWelcome to the Quiz App!\\n\")\n",
        "    for i, q in enumerate(quiz_data):\n",
        "        print(f\"Question {i+1}: {q['question']}\")\n",
        "        for option in q['options']:\n",
        "            print(option)\n",
        "\n",
        "        # Get user input\n",
        "        while True:\n",
        "            try:\n",
        "                user_answer = int(input(\"Enter the number of your answer: \"))\n",
        "                if user_answer < 1 or user_answer > len(q['options']):\n",
        "                    raise ValueError(\"Invalid choice. Please choose a valid option.\")\n",
        "                break\n",
        "            except ValueError as e:\n",
        "                print(e)\n",
        "\n",
        "        # Check answer\n",
        "        if user_answer == q['answer']:\n",
        "            print(\"Correct!\\n\")\n",
        "            score += 1\n",
        "        else:\n",
        "            print(f\"Wrong! The correct answer was {q['options'][q['answer'] - 1]}.\\n\")\n",
        "\n",
        "    # Final score\n",
        "    print(f\"Quiz Completed! Your final score is {score}/{len(quiz_data)}.\")\n",
        "\n",
        "# Run the quiz\n",
        "run_quiz(quiz_data)\n"
      ]
    },
    {
      "cell_type": "markdown",
      "source": [
        "### How It Works\n",
        "1. The program starts by welcoming the user.\n",
        "2. Each question is displayed along with its options.\n",
        "3. The user selects their answer by entering the corresponding number.\n",
        "4. The program checks the answer and provides feedback.\n",
        "5. After all questions, the program displays the final score.\n"
      ],
      "metadata": {
        "id": "733tTGWNi98_"
      }
    }
  ]
}