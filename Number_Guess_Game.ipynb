{
  "nbformat": 4,
  "nbformat_minor": 0,
  "metadata": {
    "colab": {
      "provenance": [],
      "authorship_tag": "ABX9TyOuAaVWPagZRjDxdfKxq7+Q",
      "include_colab_link": true
    },
    "kernelspec": {
      "name": "python3",
      "display_name": "Python 3"
    },
    "language_info": {
      "name": "python"
    }
  },
  "cells": [
    {
      "cell_type": "markdown",
      "metadata": {
        "id": "view-in-github",
        "colab_type": "text"
      },
      "source": [
        "<a href=\"https://colab.research.google.com/github/KuruvaRaviKumar/Python-project-from-scratch/blob/main/Number_Guess_Game.ipynb\" target=\"_parent\"><img src=\"https://colab.research.google.com/assets/colab-badge.svg\" alt=\"Open In Colab\"/></a>"
      ]
    },
    {
      "cell_type": "code",
      "execution_count": null,
      "metadata": {
        "id": "33ujoRCLjj-6"
      },
      "outputs": [],
      "source": [
        "import random\n",
        "\n",
        "def number_guessing_game():\n",
        "    print(\"\\nWelcome to the Number Guessing Game!\")\n",
        "    print(\"I'm thinking of a number between 1 and 100. Can you guess it?\")\n",
        "\n",
        "    # Random number generation\n",
        "    number_to_guess = random.randint(1, 100)\n",
        "    attempts = 0\n",
        "    guessed_correctly = False\n",
        "\n",
        "    while not guessed_correctly:\n",
        "        try:\n",
        "            # Get user input\n",
        "            user_guess = int(input(\"Enter your guess: \"))\n",
        "            attempts += 1\n",
        "\n",
        "            # Check if the guess is correct\n",
        "            if user_guess == number_to_guess:\n",
        "                print(f\"Congratulations! You guessed the number in {attempts} attempts!\")\n",
        "                guessed_correctly = True\n",
        "            elif user_guess < number_to_guess:\n",
        "                print(\"Higher! Try again.\")\n",
        "            else:\n",
        "                print(\"Lower! Try again.\")\n",
        "        except ValueError:\n",
        "            print(\"Invalid input. Please enter a valid number.\")\n",
        "\n",
        "if __name__ == \"__main__\":\n",
        "    number_guessing_game()\n"
      ]
    },
    {
      "cell_type": "markdown",
      "source": [
        "### How It Works\n",
        "1. The program starts by welcoming the user and explaining the rules.\n",
        "2. A random number is generated, and the user is prompted to guess it.\n",
        "3. For each guess, the program provides feedback (\"higher\" or \"lower\") and counts the attempts.\n",
        "4. Once the user guesses correctly, the program congratulates them and shows the number of attempts taken.\n",
        "\n",
        "\n",
        "### Example\n",
        "\n",
        "Welcome to the Number Guessing Game!\n",
        "I'm thinking of a number between 1 and 100. Can you guess it?\n",
        "Enter your guess: 50\n",
        "Higher! Try again.\n",
        "Enter your guess: 75\n",
        "Lower! Try again.\n",
        "Enter your guess: 62\n",
        "Congratulations! You guessed the number in 3 attempts!\n"
      ],
      "metadata": {
        "id": "zBnxkODNjqnW"
      }
    }
  ]
}